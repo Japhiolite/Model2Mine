{
 "cells": [
  {
   "cell_type": "code",
   "execution_count": 2,
   "metadata": {},
   "outputs": [
    {
     "name": "stderr",
     "output_type": "stream",
     "text": [
      "WARNING (theano.tensor.blas): Using NumPy C-API based implementation for BLAS functions.\n"
     ]
    },
    {
     "data": {
      "text/plain": [
       "<module 'gempy' from 'c:\\\\Users\\\\Simon\\\\Documents\\\\git\\\\Model2Mine\\\\notebooks\\\\../../gempy\\\\gempy\\\\__init__.py'>"
      ]
     },
     "execution_count": 2,
     "metadata": {},
     "output_type": "execute_result"
    }
   ],
   "source": [
    "import sys\n",
    "sys.path.insert(0, '../../gempy/')\n",
    "import gempy as gp\n",
    "import numpy as np\n",
    "\n",
    "gp"
   ]
  },
  {
   "cell_type": "markdown",
   "metadata": {},
   "source": [
    "## Getting Orientations:"
   ]
  },
  {
   "cell_type": "code",
   "execution_count": 175,
   "metadata": {},
   "outputs": [
    {
     "name": "stdout",
     "output_type": "stream",
     "text": [
      "azimuth = 88.6763799472806, elevation = -2.1062621550830993\n"
     ]
    }
   ],
   "source": [
    "# Example\n",
    "v1 = np.array([308.474909,76.50,79.107143])\n",
    "v2 = np.array([463.84823949480227,80.09,73.39285714285721])\n",
    "v = v1 - v2\n",
    "\n",
    "a = np.degrees(np.arctan(v[0]/v[1]))\n",
    "e = np.degrees(np.arctan(v[2]/v[0]))\n",
    "\n",
    "print('azimuth = '+str(a)+', elevation = '+str(e))"
   ]
  },
  {
   "cell_type": "code",
   "execution_count": 146,
   "metadata": {},
   "outputs": [
    {
     "data": {
      "text/plain": [
       "-2.1072114596689446"
      ]
     },
     "execution_count": 146,
     "metadata": {},
     "output_type": "execute_result"
    }
   ],
   "source": [
    "np.rad2deg((79.107143-73.39285714285721)/(308.474909-463.84823949480227))"
   ]
  },
  {
   "cell_type": "code",
   "execution_count": 200,
   "metadata": {},
   "outputs": [],
   "source": [
    "def get_orientation(point1, point2):\n",
    "    x = np.abs(point1[0] - point2[0]) / 2 + np.min(a=[point1[0], point2[0]])\n",
    "    y = np.abs(point1[1] - point2[1]) / 2 + np.min(a=[point1[1], point2[1]])\n",
    "    z = np.abs(point1[2] - point2[2]) / 2 + np.min(a=[point1[2], point2[2]])\n",
    "\n",
    "    v = point1[:3] - point2[:3]\n",
    "\n",
    "    a = np.degrees(np.arctan(v[0]/v[1]))\n",
    "    e = np.abs(np.degrees(np.arctan(v[2]/v[0])))\n",
    "    if a <= 0:\n",
    "        a = 360 + a\n",
    "\n",
    "    return np.array([x, y, z, e, a, 1, point1[3]])\n"
   ]
  },
  {
   "cell_type": "code",
   "execution_count": 201,
   "metadata": {},
   "outputs": [],
   "source": [
    "import pandas as pd"
   ]
  },
  {
   "cell_type": "code",
   "execution_count": 257,
   "metadata": {},
   "outputs": [],
   "source": [
    "borehole_data = pd.read_csv('../data/DH23_24.csv')"
   ]
  },
  {
   "cell_type": "code",
   "execution_count": 258,
   "metadata": {},
   "outputs": [],
   "source": [
    "Formations = borehole_data.formation.unique()"
   ]
  },
  {
   "cell_type": "code",
   "execution_count": 259,
   "metadata": {},
   "outputs": [
    {
     "data": {
      "text/plain": [
       "array(['Quaternary', 'Andesite', 'Rhyolite', 'Qtz_Porphyryie',\n",
       "       'Qz-Rhyolite', 'Dacite', 'Dacite_altered'], dtype=object)"
      ]
     },
     "execution_count": 259,
     "metadata": {},
     "output_type": "execute_result"
    }
   ],
   "source": [
    "Formations"
   ]
  },
  {
   "cell_type": "code",
   "execution_count": 261,
   "metadata": {},
   "outputs": [
    {
     "name": "stdout",
     "output_type": "stream",
     "text": [
      "            X     Y          Z   formation\n",
      "0   61.996307  51.0  85.535714  Quaternary\n",
      "6  160.164003  62.0  89.107143  Quaternary\n",
      "               X     Y              Z formation\n",
      "1  62.7025496972  52.8  83.3928571429  Andesite\n",
      "Only one Point found, continuing with next point pair.\n",
      "                X      Y              Z formation\n",
      "2  112.1395185103  71.24  35.5357142857  Rhyolite\n",
      "4  141.0954573865  91.00  11.9642857143  Rhyolite\n",
      "7  176.4075779673  65.36  61.2500000000  Rhyolite\n",
      "                X      Y              Z       formation\n",
      "3  124.1456395077  79.36  25.5357142857  Qtz_Porphyryie\n",
      "Only one Point found, continuing with next point pair.\n",
      "                X     Y              Z    formation\n",
      "5  155.9265480304  95.0  -1.6071428571  Qz-Rhyolite\n",
      "8  204.6572744319  81.9  14.8214285714  Qz-Rhyolite\n",
      "                 X      Y               Z formation\n",
      "9   239.2631526011   89.0  -34.4642857143    Dacite\n",
      "11  315.5373330555  130.0 -136.6071428571    Dacite\n",
      "                 X       Y              Z       formation\n",
      "10  279.5189700631  101.62 -90.8928571429  Dacite_altered\n",
      "Only one Point found, continuing with next point pair.\n"
     ]
    }
   ],
   "source": [
    "all_orientations = np.array([])\n",
    "for i in Formations:\n",
    "    formation = borehole_data.query(\"formation == @i\")\n",
    "    print(formation)\n",
    "    try:\n",
    "        ori = get_orientation(formation.iloc[0].values, formation.iloc[1].values)\n",
    "    except IndexError:\n",
    "        print(\"Only one Point found, continuing with next point pair.\")\n",
    "        pass\n",
    "\n",
    "    all_orientations = np.append(all_orientations, ori, axis=0)"
   ]
  },
  {
   "cell_type": "code",
   "execution_count": 262,
   "metadata": {},
   "outputs": [
    {
     "data": {
      "text/plain": [
       "18.543460374317775"
      ]
     },
     "execution_count": 262,
     "metadata": {},
     "output_type": "execute_result"
    }
   ],
   "source": [
    "np.rad2deg((24.1071428571-58.3928571429)/(372.7429683964-478.6793301387))"
   ]
  },
  {
   "cell_type": "code",
   "execution_count": 263,
   "metadata": {},
   "outputs": [
    {
     "data": {
      "text/plain": [
       "(49,)"
      ]
     },
     "execution_count": 263,
     "metadata": {},
     "output_type": "execute_result"
    }
   ],
   "source": [
    "all_orientations.shape"
   ]
  },
  {
   "cell_type": "code",
   "execution_count": 264,
   "metadata": {},
   "outputs": [
    {
     "data": {
      "text/plain": [
       "4.0"
      ]
     },
     "execution_count": 264,
     "metadata": {},
     "output_type": "execute_result"
    }
   ],
   "source": [
    "28/7"
   ]
  },
  {
   "cell_type": "code",
   "execution_count": 265,
   "metadata": {},
   "outputs": [],
   "source": [
    "ori_df = np.reshape(all_orientations, (int(all_orientations.shape[0]/7),7))"
   ]
  },
  {
   "cell_type": "code",
   "execution_count": 266,
   "metadata": {},
   "outputs": [],
   "source": [
    "oris = pd.DataFrame(ori_df, columns=[\"X\",\"Y\",\"Z\",\"dip\",\"azimuth\",\"polarity\",\"formation\"])\n",
    "oris.to_csv('../data/DH23_24orientations.csv', index=None)"
   ]
  },
  {
   "cell_type": "code",
   "execution_count": 267,
   "metadata": {},
   "outputs": [
    {
     "data": {
      "text/html": [
       "<div>\n",
       "<style scoped>\n",
       "    .dataframe tbody tr th:only-of-type {\n",
       "        vertical-align: middle;\n",
       "    }\n",
       "\n",
       "    .dataframe tbody tr th {\n",
       "        vertical-align: top;\n",
       "    }\n",
       "\n",
       "    .dataframe thead th {\n",
       "        text-align: right;\n",
       "    }\n",
       "</style>\n",
       "<table border=\"1\" class=\"dataframe\">\n",
       "  <thead>\n",
       "    <tr style=\"text-align: right;\">\n",
       "      <th></th>\n",
       "      <th>X</th>\n",
       "      <th>Y</th>\n",
       "      <th>Z</th>\n",
       "      <th>dip</th>\n",
       "      <th>azimuth</th>\n",
       "      <th>polarity</th>\n",
       "      <th>formation</th>\n",
       "    </tr>\n",
       "  </thead>\n",
       "  <tbody>\n",
       "    <tr>\n",
       "      <th>0</th>\n",
       "      <td>111.080155</td>\n",
       "      <td>56.5</td>\n",
       "      <td>87.3214285</td>\n",
       "      <td>2.0835530298020233</td>\n",
       "      <td>83.60649690827269</td>\n",
       "      <td>1</td>\n",
       "      <td>Quaternary</td>\n",
       "    </tr>\n",
       "    <tr>\n",
       "      <th>1</th>\n",
       "      <td>111.080155</td>\n",
       "      <td>56.5</td>\n",
       "      <td>87.3214285</td>\n",
       "      <td>2.0835530298020233</td>\n",
       "      <td>83.60649690827269</td>\n",
       "      <td>1</td>\n",
       "      <td>Quaternary</td>\n",
       "    </tr>\n",
       "    <tr>\n",
       "      <th>2</th>\n",
       "      <td>126.6174879483882</td>\n",
       "      <td>81.12</td>\n",
       "      <td>23.75</td>\n",
       "      <td>39.14712971424124</td>\n",
       "      <td>55.68974161048669</td>\n",
       "      <td>1</td>\n",
       "      <td>Rhyolite</td>\n",
       "    </tr>\n",
       "    <tr>\n",
       "      <th>3</th>\n",
       "      <td>126.6174879483882</td>\n",
       "      <td>81.12</td>\n",
       "      <td>23.75</td>\n",
       "      <td>39.14712971424124</td>\n",
       "      <td>55.68974161048669</td>\n",
       "      <td>1</td>\n",
       "      <td>Rhyolite</td>\n",
       "    </tr>\n",
       "    <tr>\n",
       "      <th>4</th>\n",
       "      <td>180.29191123116826</td>\n",
       "      <td>88.45</td>\n",
       "      <td>6.607142857142932</td>\n",
       "      <td>18.630485615567405</td>\n",
       "      <td>285.0467672435467</td>\n",
       "      <td>1</td>\n",
       "      <td>Qz-Rhyolite</td>\n",
       "    </tr>\n",
       "    <tr>\n",
       "      <th>5</th>\n",
       "      <td>277.40024282830313</td>\n",
       "      <td>109.5</td>\n",
       "      <td>-85.53571428571419</td>\n",
       "      <td>53.24982305152461</td>\n",
       "      <td>61.74043879072081</td>\n",
       "      <td>1</td>\n",
       "      <td>Dacite</td>\n",
       "    </tr>\n",
       "    <tr>\n",
       "      <th>6</th>\n",
       "      <td>277.40024282830313</td>\n",
       "      <td>109.5</td>\n",
       "      <td>-85.53571428571419</td>\n",
       "      <td>53.24982305152461</td>\n",
       "      <td>61.74043879072081</td>\n",
       "      <td>1</td>\n",
       "      <td>Dacite</td>\n",
       "    </tr>\n",
       "  </tbody>\n",
       "</table>\n",
       "</div>"
      ],
      "text/plain": [
       "                    X      Y                   Z                 dip  \\\n",
       "0          111.080155   56.5          87.3214285  2.0835530298020233   \n",
       "1          111.080155   56.5          87.3214285  2.0835530298020233   \n",
       "2   126.6174879483882  81.12               23.75   39.14712971424124   \n",
       "3   126.6174879483882  81.12               23.75   39.14712971424124   \n",
       "4  180.29191123116826  88.45   6.607142857142932  18.630485615567405   \n",
       "5  277.40024282830313  109.5  -85.53571428571419   53.24982305152461   \n",
       "6  277.40024282830313  109.5  -85.53571428571419   53.24982305152461   \n",
       "\n",
       "             azimuth polarity    formation  \n",
       "0  83.60649690827269        1   Quaternary  \n",
       "1  83.60649690827269        1   Quaternary  \n",
       "2  55.68974161048669        1     Rhyolite  \n",
       "3  55.68974161048669        1     Rhyolite  \n",
       "4  285.0467672435467        1  Qz-Rhyolite  \n",
       "5  61.74043879072081        1       Dacite  \n",
       "6  61.74043879072081        1       Dacite  "
      ]
     },
     "execution_count": 267,
     "metadata": {},
     "output_type": "execute_result"
    }
   ],
   "source": [
    "oris"
   ]
  },
  {
   "cell_type": "markdown",
   "metadata": {},
   "source": [
    "## Initial Model with 2 Boreholes\n",
    "The two oldest Boreholes in the Area are DH 17 and DH 18. So first, we create a Model using those two boreholes. The orientations are deduced from the input points in a first approach."
   ]
  },
  {
   "cell_type": "code",
   "execution_count": 19,
   "metadata": {},
   "outputs": [
    {
     "name": "stdout",
     "output_type": "stream",
     "text": [
      "Active grids: ['regular']\n",
      "Active grids: ['regular' 'topography']\n"
     ]
    }
   ],
   "source": [
    "model2DH = gp.load_model(name='DH17_18', path='../models/DH17_18/')"
   ]
  },
  {
   "cell_type": "code",
   "execution_count": 20,
   "metadata": {},
   "outputs": [
    {
     "name": "stderr",
     "output_type": "stream",
     "text": [
      "c:\\Users\\Simon\\Documents\\git\\Model2Mine\\notebooks\\../../gempy\\gempy\\plot\\plot_api.py:261: UserWarning: Matplotlib is currently using module://matplotlib_inline.backend_inline, which is a non-GUI backend, so cannot show the figure.\n",
      "  p.fig.show()\n"
     ]
    },
    {
     "data": {
      "text/plain": [
       "<gempy.plot.visualization_2d.Plot2D at 0x1a49c984a30>"
      ]
     },
     "execution_count": 20,
     "metadata": {},
     "output_type": "execute_result"
    },
    {
     "data": {
      "image/png": "[encoded data removed]",
      "text/plain": [
       "<Figure size 748.8x514.8 with 1 Axes>"
      ]
     },
     "metadata": {},
     "output_type": "display_data"
    }
   ],
   "source": [
    "gp.plot_2d(model2DH, show_topography=True)"
   ]
  },
  {
   "cell_type": "code",
   "execution_count": 21,
   "metadata": {},
   "outputs": [
    {
     "data": {
      "text/html": [
       "<style type=\"text/css\">\n",
       "#T_b5eec_row0_col3 {\n",
       "  background-color: #015482;\n",
       "}\n",
       "#T_b5eec_row1_col3 {\n",
       "  background-color: #9f0052;\n",
       "}\n",
       "#T_b5eec_row2_col3 {\n",
       "  background-color: #ffbe00;\n",
       "}\n",
       "#T_b5eec_row3_col3 {\n",
       "  background-color: #728f02;\n",
       "}\n",
       "#T_b5eec_row4_col3 {\n",
       "  background-color: #443988;\n",
       "}\n",
       "</style>\n",
       "<table id=\"T_b5eec_\">\n",
       "  <thead>\n",
       "    <tr>\n",
       "      <th class=\"blank level0\" >&nbsp;</th>\n",
       "      <th class=\"col_heading level0 col0\" >surface</th>\n",
       "      <th class=\"col_heading level0 col1\" >series</th>\n",
       "      <th class=\"col_heading level0 col2\" >order_surfaces</th>\n",
       "      <th class=\"col_heading level0 col3\" >color</th>\n",
       "      <th class=\"col_heading level0 col4\" >id</th>\n",
       "    </tr>\n",
       "  </thead>\n",
       "  <tbody>\n",
       "    <tr>\n",
       "      <th id=\"T_b5eec_level0_row0\" class=\"row_heading level0 row0\" >0</th>\n",
       "      <td id=\"T_b5eec_row0_col0\" class=\"data row0 col0\" >Quaternary</td>\n",
       "      <td id=\"T_b5eec_row0_col1\" class=\"data row0 col1\" >Default series</td>\n",
       "      <td id=\"T_b5eec_row0_col2\" class=\"data row0 col2\" >1</td>\n",
       "      <td id=\"T_b5eec_row0_col3\" class=\"data row0 col3\" >#015482</td>\n",
       "      <td id=\"T_b5eec_row0_col4\" class=\"data row0 col4\" >1</td>\n",
       "    </tr>\n",
       "    <tr>\n",
       "      <th id=\"T_b5eec_level0_row1\" class=\"row_heading level0 row1\" >1</th>\n",
       "      <td id=\"T_b5eec_row1_col0\" class=\"data row1 col0\" >Rhyodacite</td>\n",
       "      <td id=\"T_b5eec_row1_col1\" class=\"data row1 col1\" >Default series</td>\n",
       "      <td id=\"T_b5eec_row1_col2\" class=\"data row1 col2\" >2</td>\n",
       "      <td id=\"T_b5eec_row1_col3\" class=\"data row1 col3\" >#9f0052</td>\n",
       "      <td id=\"T_b5eec_row1_col4\" class=\"data row1 col4\" >2</td>\n",
       "    </tr>\n",
       "    <tr>\n",
       "      <th id=\"T_b5eec_level0_row2\" class=\"row_heading level0 row2\" >2</th>\n",
       "      <td id=\"T_b5eec_row2_col0\" class=\"data row2 col0\" >Dacite_altered</td>\n",
       "      <td id=\"T_b5eec_row2_col1\" class=\"data row2 col1\" >Default series</td>\n",
       "      <td id=\"T_b5eec_row2_col2\" class=\"data row2 col2\" >3</td>\n",
       "      <td id=\"T_b5eec_row2_col3\" class=\"data row2 col3\" >#ffbe00</td>\n",
       "      <td id=\"T_b5eec_row2_col4\" class=\"data row2 col4\" >3</td>\n",
       "    </tr>\n",
       "    <tr>\n",
       "      <th id=\"T_b5eec_level0_row3\" class=\"row_heading level0 row3\" >3</th>\n",
       "      <td id=\"T_b5eec_row3_col0\" class=\"data row3 col0\" >Dacite</td>\n",
       "      <td id=\"T_b5eec_row3_col1\" class=\"data row3 col1\" >Default series</td>\n",
       "      <td id=\"T_b5eec_row3_col2\" class=\"data row3 col2\" >4</td>\n",
       "      <td id=\"T_b5eec_row3_col3\" class=\"data row3 col3\" >#728f02</td>\n",
       "      <td id=\"T_b5eec_row3_col4\" class=\"data row3 col4\" >4</td>\n",
       "    </tr>\n",
       "    <tr>\n",
       "      <th id=\"T_b5eec_level0_row4\" class=\"row_heading level0 row4\" >4</th>\n",
       "      <td id=\"T_b5eec_row4_col0\" class=\"data row4 col0\" >basement</td>\n",
       "      <td id=\"T_b5eec_row4_col1\" class=\"data row4 col1\" >Basement</td>\n",
       "      <td id=\"T_b5eec_row4_col2\" class=\"data row4 col2\" >1</td>\n",
       "      <td id=\"T_b5eec_row4_col3\" class=\"data row4 col3\" >#443988</td>\n",
       "      <td id=\"T_b5eec_row4_col4\" class=\"data row4 col4\" >5</td>\n",
       "    </tr>\n",
       "  </tbody>\n",
       "</table>\n"
      ],
      "text/plain": [
       "          surface          series  order_surfaces    color  id\n",
       "0      Quaternary  Default series               1  #015482   1\n",
       "1      Rhyodacite  Default series               2  #9f0052   2\n",
       "2  Dacite_altered  Default series               3  #ffbe00   3\n",
       "3          Dacite  Default series               4  #728f02   4\n",
       "4        basement        Basement               1  #443988   5"
      ]
     },
     "execution_count": 21,
     "metadata": {},
     "output_type": "execute_result"
    }
   ],
   "source": [
    "model2DH.surfaces"
   ]
  },
  {
   "cell_type": "code",
   "execution_count": 22,
   "metadata": {},
   "outputs": [
    {
     "data": {
      "text/html": [
       "<style type=\"text/css\">\n",
       "#T_f9b3a_row0_col3 {\n",
       "  background-color: #015482;\n",
       "}\n",
       "#T_f9b3a_row1_col3 {\n",
       "  background-color: #9f0052;\n",
       "}\n",
       "#T_f9b3a_row2_col3 {\n",
       "  background-color: #ffbe00;\n",
       "}\n",
       "#T_f9b3a_row3_col3 {\n",
       "  background-color: #728f02;\n",
       "}\n",
       "#T_f9b3a_row4_col3 {\n",
       "  background-color: #443988;\n",
       "}\n",
       "</style>\n",
       "<table id=\"T_f9b3a_\">\n",
       "  <thead>\n",
       "    <tr>\n",
       "      <th class=\"blank level0\" >&nbsp;</th>\n",
       "      <th class=\"col_heading level0 col0\" >surface</th>\n",
       "      <th class=\"col_heading level0 col1\" >series</th>\n",
       "      <th class=\"col_heading level0 col2\" >order_surfaces</th>\n",
       "      <th class=\"col_heading level0 col3\" >color</th>\n",
       "      <th class=\"col_heading level0 col4\" >id</th>\n",
       "    </tr>\n",
       "  </thead>\n",
       "  <tbody>\n",
       "    <tr>\n",
       "      <th id=\"T_f9b3a_level0_row0\" class=\"row_heading level0 row0\" >0</th>\n",
       "      <td id=\"T_f9b3a_row0_col0\" class=\"data row0 col0\" >Quaternary</td>\n",
       "      <td id=\"T_f9b3a_row0_col1\" class=\"data row0 col1\" >Quaternary_series</td>\n",
       "      <td id=\"T_f9b3a_row0_col2\" class=\"data row0 col2\" >1</td>\n",
       "      <td id=\"T_f9b3a_row0_col3\" class=\"data row0 col3\" >#015482</td>\n",
       "      <td id=\"T_f9b3a_row0_col4\" class=\"data row0 col4\" >1</td>\n",
       "    </tr>\n",
       "    <tr>\n",
       "      <th id=\"T_f9b3a_level0_row1\" class=\"row_heading level0 row1\" >1</th>\n",
       "      <td id=\"T_f9b3a_row1_col0\" class=\"data row1 col0\" >Rhyodacite</td>\n",
       "      <td id=\"T_f9b3a_row1_col1\" class=\"data row1 col1\" >Younger_series</td>\n",
       "      <td id=\"T_f9b3a_row1_col2\" class=\"data row1 col2\" >1</td>\n",
       "      <td id=\"T_f9b3a_row1_col3\" class=\"data row1 col3\" >#9f0052</td>\n",
       "      <td id=\"T_f9b3a_row1_col4\" class=\"data row1 col4\" >2</td>\n",
       "    </tr>\n",
       "    <tr>\n",
       "      <th id=\"T_f9b3a_level0_row2\" class=\"row_heading level0 row2\" >2</th>\n",
       "      <td id=\"T_f9b3a_row2_col0\" class=\"data row2 col0\" >Dacite_altered</td>\n",
       "      <td id=\"T_f9b3a_row2_col1\" class=\"data row2 col1\" >Younger_series</td>\n",
       "      <td id=\"T_f9b3a_row2_col2\" class=\"data row2 col2\" >2</td>\n",
       "      <td id=\"T_f9b3a_row2_col3\" class=\"data row2 col3\" >#ffbe00</td>\n",
       "      <td id=\"T_f9b3a_row2_col4\" class=\"data row2 col4\" >3</td>\n",
       "    </tr>\n",
       "    <tr>\n",
       "      <th id=\"T_f9b3a_level0_row3\" class=\"row_heading level0 row3\" >3</th>\n",
       "      <td id=\"T_f9b3a_row3_col0\" class=\"data row3 col0\" >Dacite</td>\n",
       "      <td id=\"T_f9b3a_row3_col1\" class=\"data row3 col1\" >Older_series</td>\n",
       "      <td id=\"T_f9b3a_row3_col2\" class=\"data row3 col2\" >1</td>\n",
       "      <td id=\"T_f9b3a_row3_col3\" class=\"data row3 col3\" >#728f02</td>\n",
       "      <td id=\"T_f9b3a_row3_col4\" class=\"data row3 col4\" >4</td>\n",
       "    </tr>\n",
       "    <tr>\n",
       "      <th id=\"T_f9b3a_level0_row4\" class=\"row_heading level0 row4\" >4</th>\n",
       "      <td id=\"T_f9b3a_row4_col0\" class=\"data row4 col0\" >basement</td>\n",
       "      <td id=\"T_f9b3a_row4_col1\" class=\"data row4 col1\" >Basement</td>\n",
       "      <td id=\"T_f9b3a_row4_col2\" class=\"data row4 col2\" >1</td>\n",
       "      <td id=\"T_f9b3a_row4_col3\" class=\"data row4 col3\" >#443988</td>\n",
       "      <td id=\"T_f9b3a_row4_col4\" class=\"data row4 col4\" >5</td>\n",
       "    </tr>\n",
       "  </tbody>\n",
       "</table>\n"
      ],
      "text/plain": [
       "          surface             series  order_surfaces    color  id\n",
       "0      Quaternary  Quaternary_series               1  #015482   1\n",
       "1      Rhyodacite     Younger_series               1  #9f0052   2\n",
       "2  Dacite_altered     Younger_series               2  #ffbe00   3\n",
       "3          Dacite       Older_series               1  #728f02   4\n",
       "4        basement           Basement               1  #443988   5"
      ]
     },
     "execution_count": 22,
     "metadata": {},
     "output_type": "execute_result"
    }
   ],
   "source": [
    "model2DH.map_stack_to_surfaces({\"Quaternary_series\" : \"Quaternary\",\n",
    "\"Younger_series\": (\"Rhyodacite\", \"Dacite_altered\"),\n",
    "\"Older_series\": \"Dacite\"})"
   ]
  },
  {
   "cell_type": "code",
   "execution_count": 7,
   "metadata": {},
   "outputs": [
    {
     "name": "stdout",
     "output_type": "stream",
     "text": [
      "Setting kriging parameters to their default values.\n",
      "Compiling theano function...\n",
      "Level of Optimization:  fast_compile\n",
      "Device:  cpu\n",
      "Precision:  float64\n",
      "Number of faults:  0\n",
      "Compilation Done!\n",
      "Kriging values: \n",
      "                            values\n",
      "range              748.3314773548\n",
      "$C_o$            13333.3333333333\n",
      "drift equations      [3, 3, 3, 3]\n"
     ]
    },
    {
     "data": {
      "text/plain": [
       "<gempy.core.interpolator.InterpolatorModel at 0x1a499df6a60>"
      ]
     },
     "execution_count": 7,
     "metadata": {},
     "output_type": "execute_result"
    }
   ],
   "source": [
    "gp.set_interpolator(model2DH, compile_theano=True,\n",
    "theano_optimizer = 'fast_compile')"
   ]
  },
  {
   "cell_type": "code",
   "execution_count": 8,
   "metadata": {},
   "outputs": [
    {
     "name": "stderr",
     "output_type": "stream",
     "text": [
      "c:\\Users\\Simon\\Documents\\git\\Model2Mine\\notebooks\\../../gempy\\gempy\\core\\solution.py:180: VisibleDeprecationWarning: Creating an ndarray from ragged nested sequences (which is a list-or-tuple of lists-or-tuples-or ndarrays with different lengths or shapes) is deprecated. If you meant to do this, you must specify 'dtype=object' when creating the ndarray.\n",
      "  self.geological_map = np.array(\n"
     ]
    }
   ],
   "source": [
    "sol17_18 = gp.compute_model(model2DH)"
   ]
  },
  {
   "cell_type": "code",
   "execution_count": 9,
   "metadata": {},
   "outputs": [
    {
     "name": "stderr",
     "output_type": "stream",
     "text": [
      "c:\\Users\\Simon\\Documents\\git\\Model2Mine\\notebooks\\../../gempy\\gempy\\plot\\plot_api.py:261: UserWarning: Matplotlib is currently using module://matplotlib_inline.backend_inline, which is a non-GUI backend, so cannot show the figure.\n",
      "  p.fig.show()\n"
     ]
    },
    {
     "data": {
      "text/plain": [
       "<gempy.plot.visualization_2d.Plot2D at 0x1a49bebe070>"
      ]
     },
     "execution_count": 9,
     "metadata": {},
     "output_type": "execute_result"
    },
    {
     "data": {
      "image/png": "[encoded data removed]",
      "text/plain": [
       "<Figure size 748.8x514.8 with 1 Axes>"
      ]
     },
     "metadata": {},
     "output_type": "display_data"
    }
   ],
   "source": [
    "gp.plot_2d(model2DH, show_topography=True, show_results=True)"
   ]
  },
  {
   "cell_type": "code",
   "execution_count": 282,
   "metadata": {},
   "outputs": [
    {
     "data": {
      "text/plain": [
       "<gempy.plot.vista.GemPyToVista at 0x22e831838b0>"
      ]
     },
     "execution_count": 282,
     "metadata": {},
     "output_type": "execute_result"
    }
   ],
   "source": [
    "gp.plot_3d(model2DH)"
   ]
  },
  {
   "cell_type": "markdown",
   "metadata": {},
   "source": [
    "## Initial Model with 3 Boreholes"
   ]
  },
  {
   "cell_type": "code",
   "execution_count": 10,
   "metadata": {},
   "outputs": [
    {
     "name": "stdout",
     "output_type": "stream",
     "text": [
      "Active grids: ['regular']\n",
      "Active grids: ['regular' 'topography']\n"
     ]
    }
   ],
   "source": [
    "model3DH = gp.load_model(name='DH17_18_23', path='../models/DH17_18_23/')"
   ]
  },
  {
   "cell_type": "code",
   "execution_count": 11,
   "metadata": {},
   "outputs": [
    {
     "name": "stderr",
     "output_type": "stream",
     "text": [
      "c:\\Users\\Simon\\Documents\\git\\Model2Mine\\notebooks\\../../gempy\\gempy\\plot\\plot_api.py:261: UserWarning: Matplotlib is currently using module://matplotlib_inline.backend_inline, which is a non-GUI backend, so cannot show the figure.\n",
      "  p.fig.show()\n"
     ]
    },
    {
     "data": {
      "text/plain": [
       "<gempy.plot.visualization_2d.Plot2D at 0x1a487f5cd00>"
      ]
     },
     "execution_count": 11,
     "metadata": {},
     "output_type": "execute_result"
    },
    {
     "data": {
      "image/png": "[encoded data removed]",
      "text/plain": [
       "<Figure size 748.8x514.8 with 1 Axes>"
      ]
     },
     "metadata": {},
     "output_type": "display_data"
    }
   ],
   "source": [
    "gp.plot_2d(model3DH, show_topography=True)"
   ]
  },
  {
   "cell_type": "code",
   "execution_count": 13,
   "metadata": {},
   "outputs": [
    {
     "data": {
      "text/html": [
       "<style type=\"text/css\">\n",
       "#T_4074d_row0_col3 {\n",
       "  background-color: #015482;\n",
       "}\n",
       "#T_4074d_row1_col3 {\n",
       "  background-color: #9f0052;\n",
       "}\n",
       "#T_4074d_row2_col3 {\n",
       "  background-color: #ffbe00;\n",
       "}\n",
       "#T_4074d_row3_col3 {\n",
       "  background-color: #728f02;\n",
       "}\n",
       "#T_4074d_row4_col3 {\n",
       "  background-color: #443988;\n",
       "}\n",
       "#T_4074d_row5_col3 {\n",
       "  background-color: #ff3f20;\n",
       "}\n",
       "#T_4074d_row6_col3 {\n",
       "  background-color: #5DA629;\n",
       "}\n",
       "#T_4074d_row7_col3 {\n",
       "  background-color: #4878d0;\n",
       "}\n",
       "#T_4074d_row8_col3 {\n",
       "  background-color: #ee854a;\n",
       "}\n",
       "</style>\n",
       "<table id=\"T_4074d_\">\n",
       "  <thead>\n",
       "    <tr>\n",
       "      <th class=\"blank level0\" >&nbsp;</th>\n",
       "      <th class=\"col_heading level0 col0\" >surface</th>\n",
       "      <th class=\"col_heading level0 col1\" >series</th>\n",
       "      <th class=\"col_heading level0 col2\" >order_surfaces</th>\n",
       "      <th class=\"col_heading level0 col3\" >color</th>\n",
       "      <th class=\"col_heading level0 col4\" >id</th>\n",
       "    </tr>\n",
       "  </thead>\n",
       "  <tbody>\n",
       "    <tr>\n",
       "      <th id=\"T_4074d_level0_row0\" class=\"row_heading level0 row0\" >0</th>\n",
       "      <td id=\"T_4074d_row0_col0\" class=\"data row0 col0\" >Quaternary</td>\n",
       "      <td id=\"T_4074d_row0_col1\" class=\"data row0 col1\" >Default series</td>\n",
       "      <td id=\"T_4074d_row0_col2\" class=\"data row0 col2\" >1</td>\n",
       "      <td id=\"T_4074d_row0_col3\" class=\"data row0 col3\" >#015482</td>\n",
       "      <td id=\"T_4074d_row0_col4\" class=\"data row0 col4\" >1</td>\n",
       "    </tr>\n",
       "    <tr>\n",
       "      <th id=\"T_4074d_level0_row1\" class=\"row_heading level0 row1\" >1</th>\n",
       "      <td id=\"T_4074d_row1_col0\" class=\"data row1 col0\" >Rhyodacite</td>\n",
       "      <td id=\"T_4074d_row1_col1\" class=\"data row1 col1\" >Default series</td>\n",
       "      <td id=\"T_4074d_row1_col2\" class=\"data row1 col2\" >2</td>\n",
       "      <td id=\"T_4074d_row1_col3\" class=\"data row1 col3\" >#9f0052</td>\n",
       "      <td id=\"T_4074d_row1_col4\" class=\"data row1 col4\" >2</td>\n",
       "    </tr>\n",
       "    <tr>\n",
       "      <th id=\"T_4074d_level0_row2\" class=\"row_heading level0 row2\" >2</th>\n",
       "      <td id=\"T_4074d_row2_col0\" class=\"data row2 col0\" >Dacite_altered</td>\n",
       "      <td id=\"T_4074d_row2_col1\" class=\"data row2 col1\" >Default series</td>\n",
       "      <td id=\"T_4074d_row2_col2\" class=\"data row2 col2\" >3</td>\n",
       "      <td id=\"T_4074d_row2_col3\" class=\"data row2 col3\" >#ffbe00</td>\n",
       "      <td id=\"T_4074d_row2_col4\" class=\"data row2 col4\" >3</td>\n",
       "    </tr>\n",
       "    <tr>\n",
       "      <th id=\"T_4074d_level0_row3\" class=\"row_heading level0 row3\" >3</th>\n",
       "      <td id=\"T_4074d_row3_col0\" class=\"data row3 col0\" >Dacite</td>\n",
       "      <td id=\"T_4074d_row3_col1\" class=\"data row3 col1\" >Default series</td>\n",
       "      <td id=\"T_4074d_row3_col2\" class=\"data row3 col2\" >4</td>\n",
       "      <td id=\"T_4074d_row3_col3\" class=\"data row3 col3\" >#728f02</td>\n",
       "      <td id=\"T_4074d_row3_col4\" class=\"data row3 col4\" >4</td>\n",
       "    </tr>\n",
       "    <tr>\n",
       "      <th id=\"T_4074d_level0_row4\" class=\"row_heading level0 row4\" >4</th>\n",
       "      <td id=\"T_4074d_row4_col0\" class=\"data row4 col0\" >Andesite</td>\n",
       "      <td id=\"T_4074d_row4_col1\" class=\"data row4 col1\" >Default series</td>\n",
       "      <td id=\"T_4074d_row4_col2\" class=\"data row4 col2\" >5</td>\n",
       "      <td id=\"T_4074d_row4_col3\" class=\"data row4 col3\" >#443988</td>\n",
       "      <td id=\"T_4074d_row4_col4\" class=\"data row4 col4\" >5</td>\n",
       "    </tr>\n",
       "    <tr>\n",
       "      <th id=\"T_4074d_level0_row5\" class=\"row_heading level0 row5\" >5</th>\n",
       "      <td id=\"T_4074d_row5_col0\" class=\"data row5 col0\" >Rhyolite</td>\n",
       "      <td id=\"T_4074d_row5_col1\" class=\"data row5 col1\" >Default series</td>\n",
       "      <td id=\"T_4074d_row5_col2\" class=\"data row5 col2\" >6</td>\n",
       "      <td id=\"T_4074d_row5_col3\" class=\"data row5 col3\" >#ff3f20</td>\n",
       "      <td id=\"T_4074d_row5_col4\" class=\"data row5 col4\" >6</td>\n",
       "    </tr>\n",
       "    <tr>\n",
       "      <th id=\"T_4074d_level0_row6\" class=\"row_heading level0 row6\" >6</th>\n",
       "      <td id=\"T_4074d_row6_col0\" class=\"data row6 col0\" >Qtz_Porphyryie</td>\n",
       "      <td id=\"T_4074d_row6_col1\" class=\"data row6 col1\" >Default series</td>\n",
       "      <td id=\"T_4074d_row6_col2\" class=\"data row6 col2\" >7</td>\n",
       "      <td id=\"T_4074d_row6_col3\" class=\"data row6 col3\" >#5DA629</td>\n",
       "      <td id=\"T_4074d_row6_col4\" class=\"data row6 col4\" >7</td>\n",
       "    </tr>\n",
       "    <tr>\n",
       "      <th id=\"T_4074d_level0_row7\" class=\"row_heading level0 row7\" >7</th>\n",
       "      <td id=\"T_4074d_row7_col0\" class=\"data row7 col0\" >Qz-rhyolite</td>\n",
       "      <td id=\"T_4074d_row7_col1\" class=\"data row7 col1\" >Default series</td>\n",
       "      <td id=\"T_4074d_row7_col2\" class=\"data row7 col2\" >8</td>\n",
       "      <td id=\"T_4074d_row7_col3\" class=\"data row7 col3\" >#4878d0</td>\n",
       "      <td id=\"T_4074d_row7_col4\" class=\"data row7 col4\" >8</td>\n",
       "    </tr>\n",
       "    <tr>\n",
       "      <th id=\"T_4074d_level0_row8\" class=\"row_heading level0 row8\" >8</th>\n",
       "      <td id=\"T_4074d_row8_col0\" class=\"data row8 col0\" >basement</td>\n",
       "      <td id=\"T_4074d_row8_col1\" class=\"data row8 col1\" >Basement</td>\n",
       "      <td id=\"T_4074d_row8_col2\" class=\"data row8 col2\" >1</td>\n",
       "      <td id=\"T_4074d_row8_col3\" class=\"data row8 col3\" >#ee854a</td>\n",
       "      <td id=\"T_4074d_row8_col4\" class=\"data row8 col4\" >9</td>\n",
       "    </tr>\n",
       "  </tbody>\n",
       "</table>\n"
      ],
      "text/plain": [
       "          surface          series  order_surfaces    color  id\n",
       "0      Quaternary  Default series               1  #015482   1\n",
       "1      Rhyodacite  Default series               2  #9f0052   2\n",
       "2  Dacite_altered  Default series               3  #ffbe00   3\n",
       "3          Dacite  Default series               4  #728f02   4\n",
       "4        Andesite  Default series               5  #443988   5\n",
       "5        Rhyolite  Default series               6  #ff3f20   6\n",
       "6  Qtz_Porphyryie  Default series               7  #5DA629   7\n",
       "7     Qz-rhyolite  Default series               8  #4878d0   8\n",
       "8        basement        Basement               1  #ee854a   9"
      ]
     },
     "execution_count": 13,
     "metadata": {},
     "output_type": "execute_result"
    }
   ],
   "source": [
    "model3DH.surfaces"
   ]
  },
  {
   "cell_type": "code",
   "execution_count": 15,
   "metadata": {},
   "outputs": [
    {
     "data": {
      "text/html": [
       "<style type=\"text/css\">\n",
       "#T_a9088_row0_col3 {\n",
       "  background-color: #015482;\n",
       "}\n",
       "#T_a9088_row1_col3 {\n",
       "  background-color: #443988;\n",
       "}\n",
       "#T_a9088_row2_col3 {\n",
       "  background-color: #ff3f20;\n",
       "}\n",
       "#T_a9088_row3_col3 {\n",
       "  background-color: #5DA629;\n",
       "}\n",
       "#T_a9088_row4_col3 {\n",
       "  background-color: #4878d0;\n",
       "}\n",
       "#T_a9088_row5_col3 {\n",
       "  background-color: #9f0052;\n",
       "}\n",
       "#T_a9088_row6_col3 {\n",
       "  background-color: #ffbe00;\n",
       "}\n",
       "#T_a9088_row7_col3 {\n",
       "  background-color: #728f02;\n",
       "}\n",
       "#T_a9088_row8_col3 {\n",
       "  background-color: #ee854a;\n",
       "}\n",
       "</style>\n",
       "<table id=\"T_a9088_\">\n",
       "  <thead>\n",
       "    <tr>\n",
       "      <th class=\"blank level0\" >&nbsp;</th>\n",
       "      <th class=\"col_heading level0 col0\" >surface</th>\n",
       "      <th class=\"col_heading level0 col1\" >series</th>\n",
       "      <th class=\"col_heading level0 col2\" >order_surfaces</th>\n",
       "      <th class=\"col_heading level0 col3\" >color</th>\n",
       "      <th class=\"col_heading level0 col4\" >id</th>\n",
       "    </tr>\n",
       "  </thead>\n",
       "  <tbody>\n",
       "    <tr>\n",
       "      <th id=\"T_a9088_level0_row0\" class=\"row_heading level0 row0\" >0</th>\n",
       "      <td id=\"T_a9088_row0_col0\" class=\"data row0 col0\" >Quaternary</td>\n",
       "      <td id=\"T_a9088_row0_col1\" class=\"data row0 col1\" >Quaternary_series</td>\n",
       "      <td id=\"T_a9088_row0_col2\" class=\"data row0 col2\" >1</td>\n",
       "      <td id=\"T_a9088_row0_col3\" class=\"data row0 col3\" >#015482</td>\n",
       "      <td id=\"T_a9088_row0_col4\" class=\"data row0 col4\" >1</td>\n",
       "    </tr>\n",
       "    <tr>\n",
       "      <th id=\"T_a9088_level0_row1\" class=\"row_heading level0 row1\" >4</th>\n",
       "      <td id=\"T_a9088_row1_col0\" class=\"data row1 col0\" >Andesite</td>\n",
       "      <td id=\"T_a9088_row1_col1\" class=\"data row1 col1\" >Younger_series</td>\n",
       "      <td id=\"T_a9088_row1_col2\" class=\"data row1 col2\" >1</td>\n",
       "      <td id=\"T_a9088_row1_col3\" class=\"data row1 col3\" >#443988</td>\n",
       "      <td id=\"T_a9088_row1_col4\" class=\"data row1 col4\" >2</td>\n",
       "    </tr>\n",
       "    <tr>\n",
       "      <th id=\"T_a9088_level0_row2\" class=\"row_heading level0 row2\" >5</th>\n",
       "      <td id=\"T_a9088_row2_col0\" class=\"data row2 col0\" >Rhyolite</td>\n",
       "      <td id=\"T_a9088_row2_col1\" class=\"data row2 col1\" >Younger_series</td>\n",
       "      <td id=\"T_a9088_row2_col2\" class=\"data row2 col2\" >2</td>\n",
       "      <td id=\"T_a9088_row2_col3\" class=\"data row2 col3\" >#ff3f20</td>\n",
       "      <td id=\"T_a9088_row2_col4\" class=\"data row2 col4\" >3</td>\n",
       "    </tr>\n",
       "    <tr>\n",
       "      <th id=\"T_a9088_level0_row3\" class=\"row_heading level0 row3\" >6</th>\n",
       "      <td id=\"T_a9088_row3_col0\" class=\"data row3 col0\" >Qtz_Porphyryie</td>\n",
       "      <td id=\"T_a9088_row3_col1\" class=\"data row3 col1\" >Younger_series</td>\n",
       "      <td id=\"T_a9088_row3_col2\" class=\"data row3 col2\" >3</td>\n",
       "      <td id=\"T_a9088_row3_col3\" class=\"data row3 col3\" >#5DA629</td>\n",
       "      <td id=\"T_a9088_row3_col4\" class=\"data row3 col4\" >4</td>\n",
       "    </tr>\n",
       "    <tr>\n",
       "      <th id=\"T_a9088_level0_row4\" class=\"row_heading level0 row4\" >7</th>\n",
       "      <td id=\"T_a9088_row4_col0\" class=\"data row4 col0\" >Qz-rhyolite</td>\n",
       "      <td id=\"T_a9088_row4_col1\" class=\"data row4 col1\" >Younger_series</td>\n",
       "      <td id=\"T_a9088_row4_col2\" class=\"data row4 col2\" >4</td>\n",
       "      <td id=\"T_a9088_row4_col3\" class=\"data row4 col3\" >#4878d0</td>\n",
       "      <td id=\"T_a9088_row4_col4\" class=\"data row4 col4\" >5</td>\n",
       "    </tr>\n",
       "    <tr>\n",
       "      <th id=\"T_a9088_level0_row5\" class=\"row_heading level0 row5\" >1</th>\n",
       "      <td id=\"T_a9088_row5_col0\" class=\"data row5 col0\" >Rhyodacite</td>\n",
       "      <td id=\"T_a9088_row5_col1\" class=\"data row5 col1\" >Middle_series</td>\n",
       "      <td id=\"T_a9088_row5_col2\" class=\"data row5 col2\" >1</td>\n",
       "      <td id=\"T_a9088_row5_col3\" class=\"data row5 col3\" >#9f0052</td>\n",
       "      <td id=\"T_a9088_row5_col4\" class=\"data row5 col4\" >6</td>\n",
       "    </tr>\n",
       "    <tr>\n",
       "      <th id=\"T_a9088_level0_row6\" class=\"row_heading level0 row6\" >2</th>\n",
       "      <td id=\"T_a9088_row6_col0\" class=\"data row6 col0\" >Dacite_altered</td>\n",
       "      <td id=\"T_a9088_row6_col1\" class=\"data row6 col1\" >Middle_series</td>\n",
       "      <td id=\"T_a9088_row6_col2\" class=\"data row6 col2\" >2</td>\n",
       "      <td id=\"T_a9088_row6_col3\" class=\"data row6 col3\" >#ffbe00</td>\n",
       "      <td id=\"T_a9088_row6_col4\" class=\"data row6 col4\" >7</td>\n",
       "    </tr>\n",
       "    <tr>\n",
       "      <th id=\"T_a9088_level0_row7\" class=\"row_heading level0 row7\" >3</th>\n",
       "      <td id=\"T_a9088_row7_col0\" class=\"data row7 col0\" >Dacite</td>\n",
       "      <td id=\"T_a9088_row7_col1\" class=\"data row7 col1\" >Older_series</td>\n",
       "      <td id=\"T_a9088_row7_col2\" class=\"data row7 col2\" >1</td>\n",
       "      <td id=\"T_a9088_row7_col3\" class=\"data row7 col3\" >#728f02</td>\n",
       "      <td id=\"T_a9088_row7_col4\" class=\"data row7 col4\" >8</td>\n",
       "    </tr>\n",
       "    <tr>\n",
       "      <th id=\"T_a9088_level0_row8\" class=\"row_heading level0 row8\" >8</th>\n",
       "      <td id=\"T_a9088_row8_col0\" class=\"data row8 col0\" >basement</td>\n",
       "      <td id=\"T_a9088_row8_col1\" class=\"data row8 col1\" >Basement</td>\n",
       "      <td id=\"T_a9088_row8_col2\" class=\"data row8 col2\" >1</td>\n",
       "      <td id=\"T_a9088_row8_col3\" class=\"data row8 col3\" >#ee854a</td>\n",
       "      <td id=\"T_a9088_row8_col4\" class=\"data row8 col4\" >9</td>\n",
       "    </tr>\n",
       "  </tbody>\n",
       "</table>\n"
      ],
      "text/plain": [
       "          surface             series  order_surfaces    color  id\n",
       "0      Quaternary  Quaternary_series               1  #015482   1\n",
       "4        Andesite     Younger_series               1  #443988   2\n",
       "5        Rhyolite     Younger_series               2  #ff3f20   3\n",
       "6  Qtz_Porphyryie     Younger_series               3  #5DA629   4\n",
       "7     Qz-rhyolite     Younger_series               4  #4878d0   5\n",
       "1      Rhyodacite      Middle_series               1  #9f0052   6\n",
       "2  Dacite_altered      Middle_series               2  #ffbe00   7\n",
       "3          Dacite       Older_series               1  #728f02   8\n",
       "8        basement           Basement               1  #ee854a   9"
      ]
     },
     "execution_count": 15,
     "metadata": {},
     "output_type": "execute_result"
    }
   ],
   "source": [
    "model3DH.map_stack_to_surfaces({\"Quaternary_series\" : \"Quaternary\",\n",
    "\"Younger_series\" : (\"Andesite\", \"Rhyolite\", \"Qtz_Porphyryie\", \"Qz-rhyolite\"),\n",
    "\"Middle_series\": (\"Rhyodacite\", \"Dacite_altered\"),\n",
    "\"Older_series\": \"Dacite\"})"
   ]
  },
  {
   "cell_type": "code",
   "execution_count": 23,
   "metadata": {},
   "outputs": [
    {
     "name": "stdout",
     "output_type": "stream",
     "text": [
      "Setting kriging parameters to their default values.\n",
      "Compiling theano function...\n",
      "Level of Optimization:  fast_compile\n",
      "Device:  cpu\n",
      "Precision:  float64\n",
      "Number of faults:  0\n",
      "Compilation Done!\n",
      "Kriging values: \n",
      "                            values\n",
      "range              748.3314773548\n",
      "$C_o$            13333.3333333333\n",
      "drift equations   [3, 3, 3, 3, 3]\n"
     ]
    },
    {
     "data": {
      "text/plain": [
       "<gempy.core.interpolator.InterpolatorModel at 0x1a49ddf0b80>"
      ]
     },
     "execution_count": 23,
     "metadata": {},
     "output_type": "execute_result"
    }
   ],
   "source": [
    "gp.set_interpolator(model3DH, compile_theano=True,\n",
    "theano_optimizer = 'fast_compile')"
   ]
  },
  {
   "cell_type": "code",
   "execution_count": 24,
   "metadata": {},
   "outputs": [
    {
     "name": "stderr",
     "output_type": "stream",
     "text": [
      "c:\\Users\\Simon\\Documents\\git\\Model2Mine\\notebooks\\../../gempy\\gempy\\core\\solution.py:359: UserWarning: Surfaces not computed due to: No surface found at the given iso value.. The surface is: Series: No surface found at the given iso value.; Surface Number:7\n",
      "  warnings.warn('Surfaces not computed due to: ' + str(\n",
      "c:\\Users\\Simon\\Documents\\git\\Model2Mine\\notebooks\\../../gempy\\gempy\\core\\solution.py:180: VisibleDeprecationWarning: Creating an ndarray from ragged nested sequences (which is a list-or-tuple of lists-or-tuples-or ndarrays with different lengths or shapes) is deprecated. If you meant to do this, you must specify 'dtype=object' when creating the ndarray.\n",
      "  self.geological_map = np.array(\n"
     ]
    }
   ],
   "source": [
    "sol17_18_23 = gp.compute_model(model3DH)"
   ]
  },
  {
   "cell_type": "code",
   "execution_count": 25,
   "metadata": {},
   "outputs": [
    {
     "ename": "ValueError",
     "evalue": "Contour levels must be increasing",
     "output_type": "error",
     "traceback": [
      "\u001b[1;31m---------------------------------------------------------------------------\u001b[0m",
      "\u001b[1;31mValueError\u001b[0m                                Traceback (most recent call last)",
      "\u001b[1;32mc:\\Users\\Simon\\Documents\\git\\Model2Mine\\notebooks\\Sequential_GemPy_Models.ipynb Cell 33\u001b[0m in \u001b[0;36m<module>\u001b[1;34m\u001b[0m\n\u001b[1;32m----> <a href='vscode-notebook-cell:/c%3A/Users/Simon/Documents/git/Model2Mine/notebooks/Sequential_GemPy_Models.ipynb#X50sZmlsZQ%3D%3D?line=0'>1</a>\u001b[0m gp\u001b[39m.\u001b[39;49mplot_2d(model3DH, show_topography\u001b[39m=\u001b[39;49m\u001b[39mTrue\u001b[39;49;00m, show_results\u001b[39m=\u001b[39;49m\u001b[39mTrue\u001b[39;49;00m)\n",
      "File \u001b[1;32mc:\\Users\\Simon\\Documents\\git\\Model2Mine\\notebooks\\../../gempy\\gempy\\plot\\plot_api.py:249\u001b[0m, in \u001b[0;36mplot_2d\u001b[1;34m(model, n_axis, section_names, cell_number, direction, show_data, show_results, show_lith, show_values, show_block, show_scalar, show_boundaries, show_topography, show_section_traces, series_n, ve, block, regular_grid, kwargs_topography, kwargs_regular_grid, **kwargs)\u001b[0m\n\u001b[0;32m    246\u001b[0m     p\u001b[39m.\u001b[39mplot_scalar_field(temp_ax, series_n\u001b[39m=\u001b[39mseries_n[e], cell_number\u001b[39m=\u001b[39mcell_number[e2],\n\u001b[0;32m    247\u001b[0m                         direction\u001b[39m=\u001b[39mdirection[e2], \u001b[39m*\u001b[39m\u001b[39m*\u001b[39mkwargs)\n\u001b[0;32m    248\u001b[0m \u001b[39mif\u001b[39;00m show_boundaries[e \u001b[39m+\u001b[39m e2] \u001b[39mis\u001b[39;00m \u001b[39mTrue\u001b[39;00m \u001b[39mand\u001b[39;00m model\u001b[39m.\u001b[39msolutions\u001b[39m.\u001b[39mscalar_field_matrix\u001b[39m.\u001b[39mshape[\u001b[39m0\u001b[39m] \u001b[39m!=\u001b[39m \u001b[39m0\u001b[39m:\n\u001b[1;32m--> 249\u001b[0m     p\u001b[39m.\u001b[39;49mplot_contacts(temp_ax, cell_number\u001b[39m=\u001b[39;49mcell_number[e2],\n\u001b[0;32m    250\u001b[0m                     direction\u001b[39m=\u001b[39;49mdirection[e2], \u001b[39m*\u001b[39;49m\u001b[39m*\u001b[39;49mkwargs)\n\u001b[0;32m    251\u001b[0m \u001b[39mif\u001b[39;00m show_topography[e \u001b[39m+\u001b[39m e2] \u001b[39mis\u001b[39;00m \u001b[39mTrue\u001b[39;00m:\n\u001b[0;32m    252\u001b[0m     p\u001b[39m.\u001b[39mplot_topography(temp_ax, cell_number\u001b[39m=\u001b[39mcell_number[e2],\n\u001b[0;32m    253\u001b[0m                       direction\u001b[39m=\u001b[39mdirection[e2], \u001b[39m*\u001b[39m\u001b[39m*\u001b[39mkwargs_topography)\n",
      "File \u001b[1;32mc:\\Users\\Simon\\Documents\\git\\Model2Mine\\notebooks\\../../gempy\\gempy\\plot\\visualization_2d.py:682\u001b[0m, in \u001b[0;36mPlot2D.plot_contacts\u001b[1;34m(self, ax, section_name, cell_number, direction, block, only_faults, **kwargs)\u001b[0m\n\u001b[0;32m    679\u001b[0m color_list \u001b[39m=\u001b[39m \u001b[39mself\u001b[39m\u001b[39m.\u001b[39mmodel\u001b[39m.\u001b[39m_surfaces\u001b[39m.\u001b[39mdf\u001b[39m.\u001b[39mgroupby(\u001b[39m'\u001b[39m\u001b[39misActive\u001b[39m\u001b[39m'\u001b[39m)\u001b[39m.\u001b[39mget_group(\u001b[39mTrue\u001b[39;00m)[\u001b[39m'\u001b[39m\u001b[39mcolor\u001b[39m\u001b[39m'\u001b[39m][c_id:c_id2][::\u001b[39m-\u001b[39m\u001b[39m1\u001b[39m]\n\u001b[0;32m    680\u001b[0m \u001b[39m#    print(color_list)\u001b[39;00m\n\u001b[1;32m--> 682\u001b[0m ax\u001b[39m.\u001b[39;49mcontour(block\u001b[39m.\u001b[39;49mreshape(shape)[_slice]\u001b[39m.\u001b[39;49mT, \u001b[39m0\u001b[39;49m, levels\u001b[39m=\u001b[39;49mnp\u001b[39m.\u001b[39;49msort(level),\n\u001b[0;32m    683\u001b[0m            colors\u001b[39m=\u001b[39;49mcolor_list,\n\u001b[0;32m    684\u001b[0m            linestyles\u001b[39m=\u001b[39;49m\u001b[39m'\u001b[39;49m\u001b[39msolid\u001b[39;49m\u001b[39m'\u001b[39;49m, origin\u001b[39m=\u001b[39;49m\u001b[39m'\u001b[39;49m\u001b[39mlower\u001b[39;49m\u001b[39m'\u001b[39;49m,\n\u001b[0;32m    685\u001b[0m            extent\u001b[39m=\u001b[39;49mextent_val, zorder\u001b[39m=\u001b[39;49mzorder \u001b[39m-\u001b[39;49m (e \u001b[39m+\u001b[39;49m \u001b[39mlen\u001b[39;49m(level))\n\u001b[0;32m    686\u001b[0m            )\n\u001b[0;32m    687\u001b[0m c_id \u001b[39m=\u001b[39m c_id2\n",
      "File \u001b[1;32mc:\\Users\\Simon\\Anaconda3\\envs\\geoscience_env_py38\\lib\\site-packages\\matplotlib\\__init__.py:1412\u001b[0m, in \u001b[0;36m_preprocess_data.<locals>.inner\u001b[1;34m(ax, data, *args, **kwargs)\u001b[0m\n\u001b[0;32m   1409\u001b[0m \u001b[39m@functools\u001b[39m\u001b[39m.\u001b[39mwraps(func)\n\u001b[0;32m   1410\u001b[0m \u001b[39mdef\u001b[39;00m \u001b[39minner\u001b[39m(ax, \u001b[39m*\u001b[39margs, data\u001b[39m=\u001b[39m\u001b[39mNone\u001b[39;00m, \u001b[39m*\u001b[39m\u001b[39m*\u001b[39mkwargs):\n\u001b[0;32m   1411\u001b[0m     \u001b[39mif\u001b[39;00m data \u001b[39mis\u001b[39;00m \u001b[39mNone\u001b[39;00m:\n\u001b[1;32m-> 1412\u001b[0m         \u001b[39mreturn\u001b[39;00m func(ax, \u001b[39m*\u001b[39;49m\u001b[39mmap\u001b[39;49m(sanitize_sequence, args), \u001b[39m*\u001b[39;49m\u001b[39m*\u001b[39;49mkwargs)\n\u001b[0;32m   1414\u001b[0m     bound \u001b[39m=\u001b[39m new_sig\u001b[39m.\u001b[39mbind(ax, \u001b[39m*\u001b[39margs, \u001b[39m*\u001b[39m\u001b[39m*\u001b[39mkwargs)\n\u001b[0;32m   1415\u001b[0m     auto_label \u001b[39m=\u001b[39m (bound\u001b[39m.\u001b[39marguments\u001b[39m.\u001b[39mget(label_namer)\n\u001b[0;32m   1416\u001b[0m                   \u001b[39mor\u001b[39;00m bound\u001b[39m.\u001b[39mkwargs\u001b[39m.\u001b[39mget(label_namer))\n",
      "File \u001b[1;32mc:\\Users\\Simon\\Anaconda3\\envs\\geoscience_env_py38\\lib\\site-packages\\matplotlib\\axes\\_axes.py:6301\u001b[0m, in \u001b[0;36mAxes.contour\u001b[1;34m(self, *args, **kwargs)\u001b[0m\n\u001b[0;32m   6292\u001b[0m \u001b[39m\"\"\"\u001b[39;00m\n\u001b[0;32m   6293\u001b[0m \u001b[39mPlot contour lines.\u001b[39;00m\n\u001b[0;32m   6294\u001b[0m \n\u001b[1;32m   (...)\u001b[0m\n\u001b[0;32m   6298\u001b[0m \u001b[39m%(contour_doc)s\u001b[39;00m\n\u001b[0;32m   6299\u001b[0m \u001b[39m\"\"\"\u001b[39;00m\n\u001b[0;32m   6300\u001b[0m kwargs[\u001b[39m'\u001b[39m\u001b[39mfilled\u001b[39m\u001b[39m'\u001b[39m] \u001b[39m=\u001b[39m \u001b[39mFalse\u001b[39;00m\n\u001b[1;32m-> 6301\u001b[0m contours \u001b[39m=\u001b[39m mcontour\u001b[39m.\u001b[39;49mQuadContourSet(\u001b[39mself\u001b[39;49m, \u001b[39m*\u001b[39;49margs, \u001b[39m*\u001b[39;49m\u001b[39m*\u001b[39;49mkwargs)\n\u001b[0;32m   6302\u001b[0m \u001b[39mself\u001b[39m\u001b[39m.\u001b[39m_request_autoscale_view()\n\u001b[0;32m   6303\u001b[0m \u001b[39mreturn\u001b[39;00m contours\n",
      "File \u001b[1;32mc:\\Users\\Simon\\Anaconda3\\envs\\geoscience_env_py38\\lib\\site-packages\\matplotlib\\contour.py:812\u001b[0m, in \u001b[0;36mContourSet.__init__\u001b[1;34m(self, ax, levels, filled, linewidths, linestyles, hatches, alpha, origin, extent, cmap, colors, norm, vmin, vmax, extend, antialiased, nchunk, locator, transform, *args, **kwargs)\u001b[0m\n\u001b[0;32m    808\u001b[0m     \u001b[39mself\u001b[39m\u001b[39m.\u001b[39morigin \u001b[39m=\u001b[39m mpl\u001b[39m.\u001b[39mrcParams[\u001b[39m'\u001b[39m\u001b[39mimage.origin\u001b[39m\u001b[39m'\u001b[39m]\n\u001b[0;32m    810\u001b[0m \u001b[39mself\u001b[39m\u001b[39m.\u001b[39m_transform \u001b[39m=\u001b[39m transform\n\u001b[1;32m--> 812\u001b[0m kwargs \u001b[39m=\u001b[39m \u001b[39mself\u001b[39;49m\u001b[39m.\u001b[39;49m_process_args(\u001b[39m*\u001b[39;49margs, \u001b[39m*\u001b[39;49m\u001b[39m*\u001b[39;49mkwargs)\n\u001b[0;32m    813\u001b[0m \u001b[39mself\u001b[39m\u001b[39m.\u001b[39m_process_levels()\n\u001b[0;32m    815\u001b[0m \u001b[39mself\u001b[39m\u001b[39m.\u001b[39m_extend_min \u001b[39m=\u001b[39m \u001b[39mself\u001b[39m\u001b[39m.\u001b[39mextend \u001b[39min\u001b[39;00m [\u001b[39m'\u001b[39m\u001b[39mmin\u001b[39m\u001b[39m'\u001b[39m, \u001b[39m'\u001b[39m\u001b[39mboth\u001b[39m\u001b[39m'\u001b[39m]\n",
      "File \u001b[1;32mc:\\Users\\Simon\\Anaconda3\\envs\\geoscience_env_py38\\lib\\site-packages\\matplotlib\\contour.py:1441\u001b[0m, in \u001b[0;36mQuadContourSet._process_args\u001b[1;34m(self, corner_mask, *args, **kwargs)\u001b[0m\n\u001b[0;32m   1438\u001b[0m     corner_mask \u001b[39m=\u001b[39m mpl\u001b[39m.\u001b[39mrcParams[\u001b[39m'\u001b[39m\u001b[39mcontour.corner_mask\u001b[39m\u001b[39m'\u001b[39m]\n\u001b[0;32m   1439\u001b[0m \u001b[39mself\u001b[39m\u001b[39m.\u001b[39m_corner_mask \u001b[39m=\u001b[39m corner_mask\n\u001b[1;32m-> 1441\u001b[0m x, y, z \u001b[39m=\u001b[39m \u001b[39mself\u001b[39;49m\u001b[39m.\u001b[39;49m_contour_args(args, kwargs)\n\u001b[0;32m   1443\u001b[0m _mask \u001b[39m=\u001b[39m ma\u001b[39m.\u001b[39mgetmask(z)\n\u001b[0;32m   1444\u001b[0m \u001b[39mif\u001b[39;00m _mask \u001b[39mis\u001b[39;00m ma\u001b[39m.\u001b[39mnomask \u001b[39mor\u001b[39;00m \u001b[39mnot\u001b[39;00m _mask\u001b[39m.\u001b[39many():\n",
      "File \u001b[1;32mc:\\Users\\Simon\\Anaconda3\\envs\\geoscience_env_py38\\lib\\site-packages\\matplotlib\\contour.py:1492\u001b[0m, in \u001b[0;36mQuadContourSet._contour_args\u001b[1;34m(self, args, kwargs)\u001b[0m\n\u001b[0;32m   1490\u001b[0m     _api\u001b[39m.\u001b[39mwarn_external(\u001b[39m'\u001b[39m\u001b[39mLog scale: values of z <= 0 have been masked\u001b[39m\u001b[39m'\u001b[39m)\n\u001b[0;32m   1491\u001b[0m     \u001b[39mself\u001b[39m\u001b[39m.\u001b[39mzmin \u001b[39m=\u001b[39m \u001b[39mfloat\u001b[39m(z\u001b[39m.\u001b[39mmin())\n\u001b[1;32m-> 1492\u001b[0m \u001b[39mself\u001b[39;49m\u001b[39m.\u001b[39;49m_process_contour_level_args(args)\n\u001b[0;32m   1493\u001b[0m \u001b[39mreturn\u001b[39;00m (x, y, z)\n",
      "File \u001b[1;32mc:\\Users\\Simon\\Anaconda3\\envs\\geoscience_env_py38\\lib\\site-packages\\matplotlib\\contour.py:1194\u001b[0m, in \u001b[0;36mContourSet._process_contour_level_args\u001b[1;34m(self, args)\u001b[0m\n\u001b[0;32m   1191\u001b[0m     \u001b[39mraise\u001b[39;00m \u001b[39mValueError\u001b[39;00m(\u001b[39m\"\u001b[39m\u001b[39mFilled contours require at least 2 levels.\u001b[39m\u001b[39m\"\u001b[39m)\n\u001b[0;32m   1193\u001b[0m \u001b[39mif\u001b[39;00m \u001b[39mlen\u001b[39m(\u001b[39mself\u001b[39m\u001b[39m.\u001b[39mlevels) \u001b[39m>\u001b[39m \u001b[39m1\u001b[39m \u001b[39mand\u001b[39;00m np\u001b[39m.\u001b[39mmin(np\u001b[39m.\u001b[39mdiff(\u001b[39mself\u001b[39m\u001b[39m.\u001b[39mlevels)) \u001b[39m<\u001b[39m\u001b[39m=\u001b[39m \u001b[39m0.0\u001b[39m:\n\u001b[1;32m-> 1194\u001b[0m     \u001b[39mraise\u001b[39;00m \u001b[39mValueError\u001b[39;00m(\u001b[39m\"\u001b[39m\u001b[39mContour levels must be increasing\u001b[39m\u001b[39m\"\u001b[39m)\n",
      "\u001b[1;31mValueError\u001b[0m: Contour levels must be increasing"
     ]
    },
    {
     "data": {
      "image/png": "[encoded data removed]",
      "text/plain": [
       "<Figure size 748.8x514.8 with 1 Axes>"
      ]
     },
     "metadata": {},
     "output_type": "display_data"
    }
   ],
   "source": [
    "gp.plot_2d(model3DH, show_topography=True, show_results=True)"
   ]
  },
  {
   "cell_type": "code",
   "execution_count": null,
   "metadata": {},
   "outputs": [],
   "source": []
  }
 ],
 "metadata": {
  "kernelspec": {
   "display_name": "Python 3.8.12 ('geoscience_env_py38')",
   "language": "python",
   "name": "python3"
  },
  "language_info": {
   "codemirror_mode": {
    "name": "ipython",
    "version": 3
   },
   "file_extension": ".py",
   "mimetype": "text/x-python",
   "name": "python",
   "nbconvert_exporter": "python",
   "pygments_lexer": "ipython3",
   "version": "3.8.12"
  },
  "orig_nbformat": 4,
  "vscode": {
   "interpreter": {
    "hash": "0d924d15415b79df86ae3024c55435acfc6e46626e71f93607f8b684c28e8b95"
   }
  }
 },
 "nbformat": 4,
 "nbformat_minor": 2
}
